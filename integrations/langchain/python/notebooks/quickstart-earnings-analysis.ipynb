{
 "cells": [
  {
   "cell_type": "markdown",
   "metadata": {},
   "source": [
    "# Quick Start: Automated Earnings Analysis with SEC EDGAR\n",
    "\n",
    "**5-minute setup to analyze any company's earnings using AI**\n",
    "\n",
    "This notebook shows the fastest way to get started with SEC EDGAR analysis using LangChain agents."
   ]
  },
  {
   "cell_type": "markdown",
   "metadata": {},
   "source": [
    "## 1. Install & Setup (30 seconds)"
   ]
  },
  {
   "cell_type": "code",
   "execution_count": null,
   "metadata": {},
   "outputs": [],
   "source": [
    "# Install packages\n",
    "!pip install -q sec-edgar-langchain langchain-openai\n",
    "\n",
    "import os\n",
    "os.environ[\"OPENAI_API_KEY\"] = \"your-api-key-here\"  # Replace with your key"
   ]
  },
  {
   "cell_type": "markdown",
   "metadata": {},
   "source": [
    "## 2. Initialize Agent (30 seconds)"
   ]
  },
  {
   "cell_type": "code",
   "execution_count": null,
   "metadata": {},
   "outputs": [],
   "source": [
    "from sec_edgar_langchain import SECEdgarToolkit, SECEdgarConfig\n",
    "from langchain_openai import ChatOpenAI\n",
    "from langchain.agents import AgentExecutor, create_react_agent\n",
    "from langchain_core.prompts import PromptTemplate\n",
    "\n",
    "# Setup toolkit\n",
    "config = SECEdgarConfig(user_agent=\"QuickDemo/1.0 (demo@example.com)\")\n",
    "toolkit = SECEdgarToolkit(config=config)\n",
    "\n",
    "# Create agent\n",
    "llm = ChatOpenAI(model=\"gpt-4-turbo-preview\", temperature=0)\n",
    "tools = toolkit.get_tools()\n",
    "\n",
    "prompt = PromptTemplate.from_template(\"\"\"\n",
    "You are a financial analyst with SEC EDGAR access.\n",
    "Answer using the tools available.\n",
    "\n",
    "Question: {input}\n",
    "Tools: {tools}\n",
    "Tool names: {tool_names}\n",
    "\n",
    "Thought: {agent_scratchpad}\n",
    "\"\"\")\n",
    "\n",
    "agent = create_react_agent(llm, tools, prompt)\n",
    "executor = AgentExecutor(agent=agent, tools=tools, verbose=True)\n",
    "\n",
    "print(\"✅ Agent ready! Ask any question about public companies.\")"
   ]
  },
  {
   "cell_type": "markdown",
   "metadata": {},
   "source": [
    "## 3. Analyze Any Company (1 minute per query)"
   ]
  },
  {
   "cell_type": "code",
   "execution_count": null,
   "metadata": {},
   "outputs": [],
   "source": [
    "# Pick any public company\n",
    "company = \"NVIDIA\"  # Change to any ticker\n",
    "\n",
    "result = executor.invoke({\n",
    "    \"input\": f\"What is {company}'s latest quarterly revenue and year-over-year growth?\"\n",
    "})\n",
    "\n",
    "print(\"\\n📊 ANALYSIS RESULT:\")\n",
    "print(result[\"output\"])"
   ]
  },
  {
   "cell_type": "markdown",
   "metadata": {},
   "source": [
    "## 4. One-Line Analyses"
   ]
  },
  {
   "cell_type": "code",
   "execution_count": null,
   "metadata": {},
   "outputs": [],
   "source": [
    "# Quick insider trading check\n",
    "executor.invoke({\"input\": \"Is Tesla management buying or selling stock?\"})['output']"
   ]
  },
  {
   "cell_type": "code",
   "execution_count": null,
   "metadata": {},
   "outputs": [],
   "source": [
    "# Material events scanner\n",
    "executor.invoke({\"input\": \"Any major announcements from Apple in the last 30 days?\"})['output']"
   ]
  },
  {
   "cell_type": "code",
   "execution_count": null,
   "metadata": {},
   "outputs": [],
   "source": [
    "# Compare competitors\n",
    "executor.invoke({\"input\": \"Microsoft vs Google: who has higher profit margins?\"})['output']"
   ]
  },
  {
   "cell_type": "markdown",
   "metadata": {},
   "source": [
    "## That's it! 🎉\n",
    "\n",
    "You now have an AI analyst that can:\n",
    "- Pull any SEC filing\n",
    "- Extract financial metrics\n",
    "- Track insider trading\n",
    "- Compare companies\n",
    "- Identify material events\n",
    "\n",
    "**Next steps:**\n",
    "- Try the [full tutorial](./sec-edgar-financial-analysis.ipynb)\n",
    "- Build a [portfolio scanner](./portfolio-monitoring.ipynb)\n",
    "- Create an [API server](../examples/api-server.py)"
   ]
  }
 ],
 "metadata": {
  "kernelspec": {
   "display_name": "Python 3",
   "language": "python",
   "name": "python3"
  },
  "language_info": {
   "codemirror_mode": {
    "name": "ipython",
    "version": 3
   },
   "file_extension": ".py",
   "mimetype": "text/x-python",
   "name": "python",
   "nbconvert_exporter": "python",
   "pygments_lexer": "ipython3",
   "version": "3.11.0"
  }
 },
 "nbformat": 4,
 "nbformat_minor": 4
}