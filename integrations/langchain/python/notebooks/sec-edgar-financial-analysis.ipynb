{
 "cells": [
  {
   "cell_type": "markdown",
   "metadata": {},
   "source": [
    "# SEC EDGAR Agent with LangChain (Python): AI-Powered Financial Analysis\n",
    "\n",
    "Turn SEC filings into investment insights in seconds using LangChain agents.\n",
    "\n",
    "## What This Does\n",
    "- Automatically pulls SEC filings (10-K, 10-Q, 8-K)\n",
    "- Extracts financial metrics and compares year-over-year\n",
    "- Analyzes insider trading patterns\n",
    "- Identifies material events and risks\n",
    "- Generates investment insights with specific data points"
   ]
  },
  {
   "cell_type": "markdown",
   "metadata": {},
   "source": [
    "## Installation"
   ]
  },
  {
   "cell_type": "code",
   "execution_count": null,
   "metadata": {},
   "outputs": [],
   "source": [
    "# Install required packages\n",
    "!pip install langchain langchain-openai langchain-core pydantic requests python-dateutil"
   ]
  },
  {
   "cell_type": "markdown",
   "metadata": {},
   "source": [
    "## Setup"
   ]
  },
  {
   "cell_type": "code",
   "execution_count": null,
   "metadata": {},
   "outputs": [],
   "source": [
    "import os\n",
    "import json\n",
    "from datetime import datetime, timedelta\n",
    "\n",
    "# Set your OpenAI API key\n",
    "os.environ[\"OPENAI_API_KEY\"] = \"your-api-key-here\"  # Replace with your actual key\n",
    "\n",
    "# Or uncomment to load from .env file\n",
    "# from dotenv import load_dotenv\n",
    "# load_dotenv()"
   ]
  },
  {
   "cell_type": "markdown",
   "metadata": {},
   "source": [
    "## Initialize SEC EDGAR Toolkit\n",
    "\n",
    "First, let's set up our SEC EDGAR toolkit with all available tools."
   ]
  },
  {
   "cell_type": "code",
   "execution_count": null,
   "metadata": {},
   "outputs": [],
   "source": [
    "from sec_edgar_langchain import SECEdgarToolkit, SECEdgarConfig\n",
    "from langchain_openai import ChatOpenAI\n",
    "from langchain.agents import AgentExecutor, create_react_agent\n",
    "from langchain_core.prompts import PromptTemplate\n",
    "\n",
    "# Initialize the SEC EDGAR toolkit\n",
    "config = SECEdgarConfig(\n",
    "    user_agent=\"FinancialAnalystDemo/1.0 (demo@example.com)\"  # Required by SEC\n",
    ")\n",
    "\n",
    "toolkit = SECEdgarToolkit(config=config)\n",
    "tools = toolkit.get_tools()\n",
    "\n",
    "print(f\"✅ Loaded {len(tools)} SEC EDGAR tools:\")\n",
    "for tool in tools:\n",
    "    print(f\"  📊 {tool.name}\")"
   ]
  },
  {
   "cell_type": "markdown",
   "metadata": {},
   "source": [
    "## Create the Financial Analyst Agent"
   ]
  },
  {
   "cell_type": "code",
   "execution_count": null,
   "metadata": {},
   "outputs": [],
   "source": [
    "# Initialize the language model\n",
    "llm = ChatOpenAI(\n",
    "    model=\"gpt-4-turbo-preview\",\n",
    "    temperature=0,\n",
    "    streaming=True\n",
    ")\n",
    "\n",
    "# Create the ReAct prompt\n",
    "prompt = PromptTemplate.from_template(\"\"\"\n",
    "You are a Senior Financial Analyst with expertise in SEC filings analysis.\n",
    "You have access to real-time SEC EDGAR data through various tools.\n",
    "\n",
    "IMPORTANT Guidelines:\n",
    "1. Always start by looking up the company's CIK number using sec_edgar_cik_lookup\n",
    "2. Use specific tools to get accurate data - don't make up numbers\n",
    "3. Cite specific filing dates and form types when referencing data\n",
    "4. Provide quantitative analysis with actual numbers\n",
    "5. For financial data, check company facts and recent filings\n",
    "\n",
    "Answer the following question as best you can using the available tools:\n",
    "\n",
    "Question: {input}\n",
    "\n",
    "You have access to the following tools:\n",
    "{tools}\n",
    "\n",
    "Use the following format:\n",
    "Thought: Consider what information you need to answer the question\n",
    "Action: the action to take, should be one of [{tool_names}]\n",
    "Action Input: the input to the action\n",
    "Observation: the result of the action\n",
    "... (this Thought/Action/Action Input/Observation can repeat N times)\n",
    "Thought: I now have enough information to answer the question\n",
    "Final Answer: the final answer to the original question with specific data points\n",
    "\n",
    "Begin!\n",
    "\n",
    "Question: {input}\n",
    "Thought: {agent_scratchpad}\n",
    "\"\"\")\n",
    "\n",
    "# Create the agent\n",
    "agent = create_react_agent(\n",
    "    llm=llm,\n",
    "    tools=tools,\n",
    "    prompt=prompt\n",
    ")\n",
    "\n",
    "# Create the agent executor\n",
    "agent_executor = AgentExecutor(\n",
    "    agent=agent,\n",
    "    tools=tools,\n",
    "    verbose=True,\n",
    "    max_iterations=10,\n",
    "    handle_parsing_errors=True\n",
    ")\n",
    "\n",
    "print(\"🤖 Financial Analyst Agent ready!\")"
   ]
  },
  {
   "cell_type": "markdown",
   "metadata": {},
   "source": [
    "## Demo 1: Comprehensive Earnings Analysis\n",
    "\n",
    "Let's analyze NVIDIA's recent performance - perfect timing with the AI boom!"
   ]
  },
  {
   "cell_type": "code",
   "execution_count": null,
   "metadata": {},
   "outputs": [],
   "source": [
    "# Analyze NVIDIA's earnings\n",
    "query = \"\"\"\n",
    "Analyze NVIDIA (NVDA) latest earnings:\n",
    "1. What was their most recent quarterly revenue?\n",
    "2. How does it compare to the same quarter last year?\n",
    "3. What's their net income trend?\n",
    "4. Any recent material events from 8-K filings?\n",
    "\"\"\"\n",
    "\n",
    "print(\"🔍 Analyzing NVIDIA earnings...\\n\")\n",
    "result = agent_executor.invoke({\"input\": query})\n",
    "print(\"\\n\" + \"=\"*60)\n",
    "print(\"📈 ANALYSIS RESULTS:\")\n",
    "print(\"=\"*60)\n",
    "print(result[\"output\"])"
   ]
  },
  {
   "cell_type": "markdown",
   "metadata": {},
   "source": [
    "## Demo 2: Insider Trading Analysis\n",
    "\n",
    "Are insiders buying or selling? Let's check Tesla!"
   ]
  },
  {
   "cell_type": "code",
   "execution_count": null,
   "metadata": {},
   "outputs": [],
   "source": [
    "# Check Tesla insider trading\n",
    "insider_query = \"\"\"\n",
    "Analyze Tesla (TSLA) insider trading activity:\n",
    "1. How many Form 4 filings in the last 30 days?\n",
    "2. Are executives buying or selling?\n",
    "3. What's the sentiment - bullish or bearish?\n",
    "\"\"\"\n",
    "\n",
    "print(\"💼 Checking Tesla insider activity...\\n\")\n",
    "insider_result = agent_executor.invoke({\"input\": insider_query})\n",
    "print(\"\\n📊 Insider Trading Analysis:\")\n",
    "print(insider_result[\"output\"])"
   ]
  },
  {
   "cell_type": "markdown",
   "metadata": {},
   "source": [
    "## Demo 3: Competitive Analysis\n",
    "\n",
    "Compare tech giants head-to-head!"
   ]
  },
  {
   "cell_type": "code",
   "execution_count": null,
   "metadata": {},
   "outputs": [],
   "source": [
    "# Compare Apple vs Microsoft\n",
    "comparison_query = \"\"\"\n",
    "Compare Apple (AAPL) vs Microsoft (MSFT):\n",
    "1. Latest quarterly revenues for each\n",
    "2. Net income comparison\n",
    "3. Which has better profit margins?\n",
    "4. Recent 8-K events for both\n",
    "Which looks stronger for next quarter?\n",
    "\"\"\"\n",
    "\n",
    "print(\"⚔️ Comparing Apple vs Microsoft...\\n\")\n",
    "comparison_result = agent_executor.invoke({\"input\": comparison_query})\n",
    "print(\"\\n🏆 Competitive Analysis:\")\n",
    "print(comparison_result[\"output\"])"
   ]
  },
  {
   "cell_type": "markdown",
   "metadata": {},
   "source": [
    "## Demo 4: Material Events Scanner\n",
    "\n",
    "Catch market-moving events before everyone else!"
   ]
  },
  {
   "cell_type": "code",
   "execution_count": null,
   "metadata": {},
   "outputs": [],
   "source": [
    "# Scan for recent material events\n",
    "events_query = \"\"\"\n",
    "Check Amazon (AMZN) for recent material events:\n",
    "1. What 8-K filings were filed in the last 30 days?\n",
    "2. Any acquisitions, leadership changes, or strategic shifts?\n",
    "3. Rate the significance of these events\n",
    "\"\"\"\n",
    "\n",
    "print(\"🚨 Scanning for material events...\\n\")\n",
    "events_result = agent_executor.invoke({\"input\": events_query})\n",
    "print(\"\\n📰 Material Events:\")\n",
    "print(events_result[\"output\"])"
   ]
  },
  {
   "cell_type": "markdown",
   "metadata": {},
   "source": [
    "## Build Your Own Analysis Function\n",
    "\n",
    "Create a reusable earnings prep function!"
   ]
  },
  {
   "cell_type": "code",
   "execution_count": null,
   "metadata": {},
   "outputs": [],
   "source": [
    "def analyze_earnings(ticker: str, company_name: str):\n",
    "    \"\"\"\n",
    "    Automated earnings analysis for any company.\n",
    "    \n",
    "    Args:\n",
    "        ticker: Stock ticker symbol\n",
    "        company_name: Company name\n",
    "    \n",
    "    Returns:\n",
    "        Dict with analysis results\n",
    "    \"\"\"\n",
    "    query = f\"\"\"\n",
    "    Prepare comprehensive earnings analysis for {company_name} ({ticker}):\n",
    "    \n",
    "    1. FINANCIAL PERFORMANCE:\n",
    "       - Latest quarterly revenue and net income\n",
    "       - Year-over-year growth rates\n",
    "       - EPS if available\n",
    "    \n",
    "    2. RECENT DEVELOPMENTS:\n",
    "       - Any 8-K filings in last 30 days\n",
    "       - Material events or announcements\n",
    "    \n",
    "    3. INSIDER SENTIMENT:\n",
    "       - Form 4 filings in last 30 days\n",
    "       - Net buying or selling by executives\n",
    "    \n",
    "    4. INVESTMENT OUTLOOK:\n",
    "       - Key strengths and risks\n",
    "       - Overall sentiment (bullish/neutral/bearish)\n",
    "    \n",
    "    Provide specific numbers and dates.\n",
    "    \"\"\"\n",
    "    \n",
    "    print(f\"📊 Analyzing {company_name} ({ticker})...\\n\")\n",
    "    result = agent_executor.invoke({\"input\": query})\n",
    "    \n",
    "    return {\n",
    "        \"ticker\": ticker,\n",
    "        \"company\": company_name,\n",
    "        \"timestamp\": datetime.now().isoformat(),\n",
    "        \"analysis\": result[\"output\"]\n",
    "    }\n",
    "\n",
    "# Test with a hot stock\n",
    "analysis = analyze_earnings(\"META\", \"Meta Platforms\")\n",
    "print(\"\\n\" + \"=\"*60)\n",
    "print(f\"📈 {analysis['company']} Analysis Complete\")\n",
    "print(\"=\"*60)\n",
    "print(analysis['analysis'])"
   ]
  },
  {
   "cell_type": "markdown",
   "metadata": {},
   "source": [
    "## Batch Analysis: Portfolio Scanner\n",
    "\n",
    "Analyze multiple stocks at once!"
   ]
  },
  {
   "cell_type": "code",
   "execution_count": null,
   "metadata": {},
   "outputs": [],
   "source": [
    "# Define your portfolio\n",
    "portfolio = [\n",
    "    (\"GOOGL\", \"Alphabet\"),\n",
    "    (\"AMZN\", \"Amazon\"),\n",
    "    (\"TSLA\", \"Tesla\")\n",
    "]\n",
    "\n",
    "print(\"🎯 Running portfolio analysis...\\n\")\n",
    "\n",
    "portfolio_results = []\n",
    "for ticker, name in portfolio:\n",
    "    query = f\"Get {name} ({ticker}) latest revenue and profit margin. Is it profitable?\"\n",
    "    \n",
    "    print(f\"Analyzing {name}...\")\n",
    "    result = agent_executor.invoke({\"input\": query})\n",
    "    \n",
    "    portfolio_results.append({\n",
    "        \"ticker\": ticker,\n",
    "        \"company\": name,\n",
    "        \"summary\": result[\"output\"][:200] + \"...\"  # Truncate for display\n",
    "    })\n",
    "    print(f\"✅ {name} complete\\n\")\n",
    "\n",
    "# Display results\n",
    "print(\"\\n\" + \"=\"*60)\n",
    "print(\"📊 PORTFOLIO SUMMARY\")\n",
    "print(\"=\"*60)\n",
    "for result in portfolio_results:\n",
    "    print(f\"\\n{result['company']} ({result['ticker']}):\")\n",
    "    print(result['summary'])"
   ]
  },
  {
   "cell_type": "markdown",
   "metadata": {},
   "source": [
    "## Advanced: Custom Analysis Pipeline\n",
    "\n",
    "Build your own financial analysis workflow!"
   ]
  },
  {
   "cell_type": "code",
   "execution_count": null,
   "metadata": {},
   "outputs": [],
   "source": [
    "class EarningsAnalyzer:\n",
    "    \"\"\"\n",
    "    Automated earnings analysis pipeline.\n",
    "    \"\"\"\n",
    "    \n",
    "    def __init__(self, agent_executor):\n",
    "        self.agent = agent_executor\n",
    "    \n",
    "    def quick_metrics(self, ticker: str) -> dict:\n",
    "        \"\"\"Get quick financial metrics.\"\"\"\n",
    "        query = f\"Get {ticker} latest revenue, net income, and total assets. Just the numbers.\"\n",
    "        result = self.agent.invoke({\"input\": query})\n",
    "        return {\"ticker\": ticker, \"metrics\": result[\"output\"]}\n",
    "    \n",
    "    def insider_sentiment(self, ticker: str) -> str:\n",
    "        \"\"\"Analyze insider trading sentiment.\"\"\"\n",
    "        query = f\"Are {ticker} insiders buying or selling? Last 30 days. One sentence summary.\"\n",
    "        result = self.agent.invoke({\"input\": query})\n",
    "        return result[\"output\"]\n",
    "    \n",
    "    def risk_assessment(self, ticker: str) -> str:\n",
    "        \"\"\"Identify key risks.\"\"\"\n",
    "        query = f\"What are the top 3 risks for {ticker} based on recent filings?\"\n",
    "        result = self.agent.invoke({\"input\": query})\n",
    "        return result[\"output\"]\n",
    "    \n",
    "    def full_analysis(self, ticker: str, company: str) -> dict:\n",
    "        \"\"\"Complete earnings analysis.\"\"\"\n",
    "        print(f\"\\n🔍 Starting full analysis for {company} ({ticker})...\\n\")\n",
    "        \n",
    "        # Get all components\n",
    "        metrics = self.quick_metrics(ticker)\n",
    "        insider = self.insider_sentiment(ticker)\n",
    "        risks = self.risk_assessment(ticker)\n",
    "        \n",
    "        return {\n",
    "            \"company\": company,\n",
    "            \"ticker\": ticker,\n",
    "            \"financial_metrics\": metrics[\"metrics\"],\n",
    "            \"insider_activity\": insider,\n",
    "            \"key_risks\": risks,\n",
    "            \"analyzed_at\": datetime.now().strftime(\"%Y-%m-%d %H:%M:%S\")\n",
    "        }\n",
    "\n",
    "# Initialize analyzer\n",
    "analyzer = EarningsAnalyzer(agent_executor)\n",
    "\n",
    "# Run full analysis\n",
    "result = analyzer.full_analysis(\"AAPL\", \"Apple\")\n",
    "\n",
    "print(\"\\n\" + \"=\"*60)\n",
    "print(\"📱 APPLE COMPREHENSIVE ANALYSIS\")\n",
    "print(\"=\"*60)\n",
    "print(f\"\\n📊 Financial Metrics:\\n{result['financial_metrics']}\")\n",
    "print(f\"\\n💼 Insider Activity:\\n{result['insider_activity']}\")\n",
    "print(f\"\\n⚠️ Key Risks:\\n{result['key_risks']}\")\n",
    "print(f\"\\n⏰ Analyzed: {result['analyzed_at']}\")"
   ]
  },
  {
   "cell_type": "markdown",
   "metadata": {},
   "source": [
    "## What's Next?\n",
    "\n",
    "### Ideas to Extend This:\n",
    "\n",
    "1. **Slack Bot**: Get real-time filing alerts\n",
    "2. **Dashboard**: Build a Streamlit app with live metrics\n",
    "3. **Trading Signals**: Combine with technical analysis\n",
    "4. **PDF Reports**: Generate professional analysis reports\n",
    "5. **Screening**: Find stocks meeting specific criteria\n",
    "\n",
    "### Resources:\n",
    "\n",
    "- GitHub: [sec-edgar-agentkit](https://github.com/stefanoamorelli/sec-edgar-agentkit)\n",
    "- LangChain Docs: [python.langchain.com](https://python.langchain.com)\n",
    "- SEC EDGAR: [sec.gov/edgar](https://www.sec.gov/edgar)\n",
    "\n",
    "### Installation:\n",
    "\n",
    "```bash\n",
    "pip install sec-edgar-langchain\n",
    "```\n",
    "\n",
    "---\n",
    "\n",
    "**Built for the financial AI community** 🚀"
   ]
  }
 ],
 "metadata": {
  "kernelspec": {
   "display_name": "Python 3",
   "language": "python",
   "name": "python3"
  },
  "language_info": {
   "codemirror_mode": {
    "name": "ipython",
    "version": 3
   },
   "file_extension": ".py",
   "mimetype": "text/x-python",
   "name": "python",
   "nbconvert_exporter": "python",
   "pygments_lexer": "ipython3",
   "version": "3.11.0"
  }
 },
 "nbformat": 4,
 "nbformat_minor": 4
}